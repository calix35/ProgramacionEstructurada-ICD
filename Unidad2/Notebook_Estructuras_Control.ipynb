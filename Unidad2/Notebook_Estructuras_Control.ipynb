{
 "cells": [
  {
   "cell_type": "markdown",
   "id": "765d9cdd",
   "metadata": {},
   "source": [
    "# Unidad 2: Estructuras de Control en Python\n",
    "Este notebook contiene ejercicios prácticos y graduales para reforzar el uso de estructuras condicionales y repetitivas en Python."
   ]
  },
  {
   "cell_type": "markdown",
   "id": "17fb107b",
   "metadata": {},
   "source": [
    "## 1. Condicionales: `if`, `elif`, `else`"
   ]
  },
  {
   "cell_type": "code",
   "execution_count": null,
   "id": "ba28a572",
   "metadata": {},
   "outputs": [],
   "source": [
    "edad = int(input(\"¿Cuántos años tienes? \"))\n",
    "if edad >= 18:\n",
    "    print(\"Eres mayor de edad\")\n",
    "elif edad == 17:\n",
    "    print(\"Casi eres mayor de edad\")\n",
    "else:\n",
    "    print(\"Eres menor de edad\")"
   ]
  },
  {
   "cell_type": "markdown",
   "id": "3e7cc254",
   "metadata": {},
   "source": [
    "### Ejercicio 1:\n",
    "Crea un programa que solicite una calificación y muestre si el alumno está aprobado (>=70), en extraordinario (60-69) o reprobado (<60)."
   ]
  },
  {
   "cell_type": "code",
   "execution_count": null,
   "id": "db938479",
   "metadata": {},
   "outputs": [],
   "source": [
    "# Escribe tu código aquí"
   ]
  },
  {
   "cell_type": "markdown",
   "id": "adc763c4",
   "metadata": {},
   "source": [
    "## 2. Ciclo `while`"
   ]
  },
  {
   "cell_type": "code",
   "execution_count": null,
   "id": "b0c9f7cf",
   "metadata": {},
   "outputs": [],
   "source": [
    "contador = 1\n",
    "while contador <= 5:\n",
    "    print(\"Número:\", contador)\n",
    "    contador += 1"
   ]
  },
  {
   "cell_type": "markdown",
   "id": "beb19882",
   "metadata": {},
   "source": [
    "### Ejercicio 2:\n",
    "Haz un programa que pida al usuario ingresar números positivos hasta que escriba 0. Al final, muestra la suma total."
   ]
  },
  {
   "cell_type": "code",
   "execution_count": null,
   "id": "15e1c002",
   "metadata": {},
   "outputs": [],
   "source": [
    "# Escribe tu código aquí"
   ]
  },
  {
   "cell_type": "markdown",
   "id": "947ddcbb",
   "metadata": {},
   "source": [
    "## 3. Ciclo `for` y `range()`"
   ]
  },
  {
   "cell_type": "code",
   "execution_count": null,
   "id": "a744071b",
   "metadata": {},
   "outputs": [],
   "source": [
    "for i in range(1, 6):\n",
    "    print(f\"{i} x 2 = {i * 2}\")"
   ]
  },
  {
   "cell_type": "markdown",
   "id": "32dbaa0e",
   "metadata": {},
   "source": [
    "### Ejercicio 3:\n",
    "Muestra la tabla del 5 del 1 al 10 usando `for` y `range()`."
   ]
  },
  {
   "cell_type": "code",
   "execution_count": null,
   "id": "bb1acec9",
   "metadata": {},
   "outputs": [],
   "source": [
    "# Escribe tu código aquí"
   ]
  },
  {
   "cell_type": "markdown",
   "id": "7258a43c",
   "metadata": {},
   "source": [
    "## 4. `break` y `continue`"
   ]
  },
  {
   "cell_type": "code",
   "execution_count": null,
   "id": "6d649b35",
   "metadata": {},
   "outputs": [],
   "source": [
    "for i in range(1, 10):\n",
    "    if i == 5:\n",
    "        break\n",
    "    print(\"break se activa en 5:\", i)"
   ]
  },
  {
   "cell_type": "code",
   "execution_count": null,
   "id": "ed7bb557",
   "metadata": {},
   "outputs": [],
   "source": [
    "for i in range(1, 6):\n",
    "    if i == 3:\n",
    "        continue\n",
    "    print(\"continue omite el 3:\", i)"
   ]
  },
  {
   "cell_type": "markdown",
   "id": "65341c04",
   "metadata": {},
   "source": [
    "### Ejercicio 4:\n",
    "Haz un programa que solicite palabras al usuario hasta que escriba 'salir'. Si la palabra contiene la letra 'x', ignórala y pasa a la siguiente."
   ]
  },
  {
   "cell_type": "code",
   "execution_count": null,
   "id": "13ae4764",
   "metadata": {},
   "outputs": [],
   "source": [
    "# Escribe tu código aquí"
   ]
  },
  {
   "cell_type": "markdown",
   "id": "56d83522",
   "metadata": {},
   "source": [
    "## 5. Proyecto mini: menú interactivo\n",
    "Crea un menú que muestre 3 opciones:\n",
    "1. Saludar\n",
    "2. Calcular área de un triángulo\n",
    "3. Salir\n",
    "\n",
    "El programa se debe repetir hasta que el usuario elija la opción 3."
   ]
  },
  {
   "cell_type": "code",
   "execution_count": null,
   "id": "89853c28",
   "metadata": {},
   "outputs": [],
   "source": [
    "# Escribe tu código aquí"
   ]
  }
 ],
 "metadata": {},
 "nbformat": 4,
 "nbformat_minor": 5
}
