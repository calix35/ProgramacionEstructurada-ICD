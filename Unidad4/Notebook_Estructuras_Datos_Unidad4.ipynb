{
 "cells": [
  {
   "cell_type": "markdown",
   "id": "c4f3b401",
   "metadata": {},
   "source": [
    "# Unidad 4: Tipos de datos estructurados en Python\n",
    "Este notebook te permitirá practicar con listas, tuplas, diccionarios y conjuntos a través de ejercicios guiados y casos prácticos."
   ]
  },
  {
   "cell_type": "markdown",
   "id": "971c9f82",
   "metadata": {},
   "source": [
    "## 1. Listas"
   ]
  },
  {
   "cell_type": "code",
   "execution_count": null,
   "id": "cdbab986",
   "metadata": {},
   "outputs": [],
   "source": [
    "frutas = ['manzana', 'pera', 'cereza']\n",
    "print(frutas)\n",
    "frutas.append('sandía')\n",
    "print(frutas)\n",
    "frutas[1] = 'plátano'\n",
    "print(frutas)"
   ]
  },
  {
   "cell_type": "markdown",
   "id": "6d71ae32",
   "metadata": {},
   "source": [
    "### Ejercicio 1:\n",
    "Crea una lista con al menos 5 nombres de ciudades y luego:\n",
    "- Agrega una ciudad\n",
    "- Reemplaza la segunda\n",
    "- Ordena la lista alfabéticamente"
   ]
  },
  {
   "cell_type": "code",
   "execution_count": null,
   "id": "dff06f81",
   "metadata": {},
   "outputs": [],
   "source": [
    "# Tu código aquí"
   ]
  },
  {
   "cell_type": "markdown",
   "id": "35e0e0c1",
   "metadata": {},
   "source": [
    "## 2. Tuplas"
   ]
  },
  {
   "cell_type": "code",
   "execution_count": null,
   "id": "da5e6f9b",
   "metadata": {},
   "outputs": [],
   "source": [
    "coordenadas = (10.5, 20.3)\n",
    "print(coordenadas)\n",
    "print(f'Latitud: {coordenadas[0]}, Longitud: {coordenadas[1]}')"
   ]
  },
  {
   "cell_type": "markdown",
   "id": "48d8d86f",
   "metadata": {},
   "source": [
    "### Ejercicio 2:\n",
    "Crea una tupla que contenga los días de la semana. Imprime el primer y el último día."
   ]
  },
  {
   "cell_type": "code",
   "execution_count": null,
   "id": "6b56dda6",
   "metadata": {},
   "outputs": [],
   "source": [
    "# Tu código aquí"
   ]
  },
  {
   "cell_type": "markdown",
   "id": "e30adce1",
   "metadata": {},
   "source": [
    "## 3. Diccionarios"
   ]
  },
  {
   "cell_type": "code",
   "execution_count": null,
   "id": "367c6b3f",
   "metadata": {},
   "outputs": [],
   "source": [
    "persona = {'nombre': 'Carlos', 'edad': 28, 'ciudad': 'Monterrey'}\n",
    "print(persona['nombre'])\n",
    "persona['edad'] = 29\n",
    "print(persona)"
   ]
  },
  {
   "cell_type": "markdown",
   "id": "82cd756f",
   "metadata": {},
   "source": [
    "### Ejercicio 3:\n",
    "Crea un diccionario con información sobre una película (título, año, director). Agrega un campo de 'género'."
   ]
  },
  {
   "cell_type": "code",
   "execution_count": null,
   "id": "4e0b3a15",
   "metadata": {},
   "outputs": [],
   "source": [
    "# Tu código aquí"
   ]
  },
  {
   "cell_type": "markdown",
   "id": "a15cf16c",
   "metadata": {},
   "source": [
    "## 4. Conjuntos (sets)"
   ]
  },
  {
   "cell_type": "code",
   "execution_count": null,
   "id": "5ac0845f",
   "metadata": {},
   "outputs": [],
   "source": [
    "colores = {'rojo', 'verde', 'azul', 'verde'}\n",
    "print(colores)\n",
    "colores.add('amarillo')\n",
    "print(colores)"
   ]
  },
  {
   "cell_type": "markdown",
   "id": "36e0ffc6",
   "metadata": {},
   "source": [
    "### Ejercicio 4:\n",
    "Crea dos sets con elementos numéricos y muestra:\n",
    "- La unión\n",
    "- La intersección\n",
    "- La diferencia"
   ]
  },
  {
   "cell_type": "code",
   "execution_count": null,
   "id": "7f43d6b7",
   "metadata": {},
   "outputs": [],
   "source": [
    "# Tu código aquí"
   ]
  },
  {
   "cell_type": "markdown",
   "id": "6067e600",
   "metadata": {},
   "source": [
    "## 5. Iteración sobre estructuras"
   ]
  },
  {
   "cell_type": "code",
   "execution_count": null,
   "id": "dc28b22e",
   "metadata": {},
   "outputs": [],
   "source": [
    "for fruta in frutas:\n",
    "    print(f'Fruta: {fruta}')\n",
    "\n",
    "for clave, valor in persona.items():\n",
    "    print(f'{clave}: {valor}')"
   ]
  },
  {
   "cell_type": "markdown",
   "id": "58e0895b",
   "metadata": {},
   "source": [
    "### Ejercicio 5:\n",
    "Recorre una lista de números y calcula la suma total y el promedio."
   ]
  },
  {
   "cell_type": "code",
   "execution_count": null,
   "id": "12026eb2",
   "metadata": {},
   "outputs": [],
   "source": [
    "# Tu código aquí"
   ]
  },
  {
   "cell_type": "markdown",
   "id": "7bfffa84",
   "metadata": {},
   "source": [
    "## 6. Comprensiones de listas"
   ]
  },
  {
   "cell_type": "code",
   "execution_count": null,
   "id": "d97a9634",
   "metadata": {},
   "outputs": [],
   "source": [
    "cuadrados = [x**2 for x in range(10)]\n",
    "pares = [x for x in range(20) if x % 2 == 0]\n",
    "print(cuadrados)\n",
    "print(pares)"
   ]
  },
  {
   "cell_type": "markdown",
   "id": "cb4d7f78",
   "metadata": {},
   "source": [
    "### Ejercicio 6:\n",
    "A partir de una lista de nombres, crea una nueva lista que contenga solo los que empiezan con la letra 'A'."
   ]
  },
  {
   "cell_type": "code",
   "execution_count": null,
   "id": "3c87f189",
   "metadata": {},
   "outputs": [],
   "source": [
    "# Tu código aquí"
   ]
  },
  {
   "cell_type": "markdown",
   "id": "8c71f466",
   "metadata": {},
   "source": [
    "## 7. Ejercicios finales (Desafíos)"
   ]
  },
  {
   "cell_type": "markdown",
   "id": "7448adee",
   "metadata": {},
   "source": [
    "### Desafío 1:\n",
    "Crea un programa que almacene productos (nombre, precio, categoría) en una lista de diccionarios. Luego, muestra un menú con las siguientes opciones:\n",
    "- Agregar producto\n",
    "- Mostrar todos\n",
    "- Filtrar por categoría (usando comprensión de listas)"
   ]
  },
  {
   "cell_type": "code",
   "execution_count": null,
   "id": "6da27b9b",
   "metadata": {},
   "outputs": [],
   "source": [
    "# Tu código aquí"
   ]
  },
  {
   "cell_type": "markdown",
   "id": "3019070d",
   "metadata": {},
   "source": [
    "### Desafío 2:\n",
    "Dado un texto, crea un set con las letras únicas utilizadas y muestra cuántas hay."
   ]
  },
  {
   "cell_type": "code",
   "execution_count": null,
   "id": "5eb02714",
   "metadata": {},
   "outputs": [],
   "source": [
    "# Tu código aquí"
   ]
  }
 ],
 "metadata": {},
 "nbformat": 4,
 "nbformat_minor": 5
}
