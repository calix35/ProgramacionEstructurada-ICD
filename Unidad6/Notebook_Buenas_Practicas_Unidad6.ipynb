{
 "cells": [
  {
   "cell_type": "markdown",
   "id": "49aa1267",
   "metadata": {},
   "source": [
    "# Unidad 6: Buenas prácticas y depuración en Python\n",
    "Este notebook contiene ejercicios prácticos para reforzar conceptos como estilo de código, documentación, pruebas básicas y depuración."
   ]
  },
  {
   "cell_type": "markdown",
   "id": "be411b6a",
   "metadata": {},
   "source": [
    "## 1. Comentarios y docstrings"
   ]
  },
  {
   "cell_type": "code",
   "execution_count": null,
   "id": "09539d2a",
   "metadata": {},
   "outputs": [],
   "source": [
    "def area_triangulo(base, altura):\n",
    "    \"\"\"Calcula el área de un triángulo dado base y altura.\"\"\"\n",
    "    return (base * altura) / 2\n",
    "\n",
    "# Llamada de prueba\n",
    "print(area_triangulo(4, 5))"
   ]
  },
  {
   "cell_type": "markdown",
   "id": "d9449a34",
   "metadata": {},
   "source": [
    "### Ejercicio:\n",
    "Escribe una función `convertir_celsius_a_fahrenheit(c)` que incluya un docstring explicativo."
   ]
  },
  {
   "cell_type": "markdown",
   "id": "5792b191",
   "metadata": {},
   "source": [
    "## 2. Estilo de código PEP 8"
   ]
  },
  {
   "cell_type": "code",
   "execution_count": null,
   "id": "f177ac17",
   "metadata": {},
   "outputs": [],
   "source": [
    "# Corrige el estilo de esta función según PEP 8\n",
    "\n",
    "def suma( a ,b): return a+b"
   ]
  },
  {
   "cell_type": "markdown",
   "id": "1b70de84",
   "metadata": {},
   "source": [
    "### Ejercicio:\n",
    "Corrige el siguiente fragmento según PEP 8:\n",
    "```python\n",
    "def mensaje(nombre):print(\"Hola,\"+nombre)\n",
    "```"
   ]
  },
  {
   "cell_type": "markdown",
   "id": "99bf3dfe",
   "metadata": {},
   "source": [
    "## 3. Pruebas con assert"
   ]
  },
  {
   "cell_type": "code",
   "execution_count": null,
   "id": "27b2c1cb",
   "metadata": {},
   "outputs": [],
   "source": [
    "def es_par(n):\n",
    "    return n % 2 == 0\n",
    "\n",
    "# Pruebas con assert\n",
    "assert es_par(4) == True\n",
    "assert es_par(7) == False"
   ]
  },
  {
   "cell_type": "markdown",
   "id": "33c79ffa",
   "metadata": {},
   "source": [
    "### Ejercicio:\n",
    "Crea una función `es_mayor_de_edad(edad)` y prueba que devuelva True si la edad es mayor o igual a 18."
   ]
  },
  {
   "cell_type": "markdown",
   "id": "6bd39848",
   "metadata": {},
   "source": [
    "## 4. Depuración con print()"
   ]
  },
  {
   "cell_type": "code",
   "execution_count": null,
   "id": "f4876d4d",
   "metadata": {},
   "outputs": [],
   "source": [
    "def factorial(n):\n",
    "    resultado = 1\n",
    "    for i in range(1, n+1):\n",
    "        resultado *= i\n",
    "        print(f\"i={i}, resultado={resultado}\")  # Depuración\n",
    "    return resultado\n",
    "\n",
    "factorial(5)"
   ]
  },
  {
   "cell_type": "markdown",
   "id": "c0c23e15",
   "metadata": {},
   "source": [
    "## 5. Manejo de errores con try/except"
   ]
  },
  {
   "cell_type": "code",
   "execution_count": null,
   "id": "90470a80",
   "metadata": {},
   "outputs": [],
   "source": [
    "try:\n",
    "    numero = int(input(\"Ingresa un número entero: \"))\n",
    "    print(f\"El doble es: {numero * 2}\")\n",
    "except ValueError:\n",
    "    print(\"Error: no ingresaste un número válido.\")"
   ]
  },
  {
   "cell_type": "markdown",
   "id": "edf79a99",
   "metadata": {},
   "source": [
    "## 6. Desafío final"
   ]
  },
  {
   "cell_type": "markdown",
   "id": "bb59c8b5",
   "metadata": {},
   "source": [
    "### Desafío:\n",
    "Corrige el siguiente código para aplicar buenas prácticas de estilo, agregar documentación, manejar errores y probar su funcionamiento con assert."
   ]
  },
  {
   "cell_type": "code",
   "execution_count": null,
   "id": "0cffe546",
   "metadata": {},
   "outputs": [],
   "source": [
    "# Código inicial\n",
    "\n",
    "def multi(x,y):return x*y\n",
    "\n",
    "print(multi(\"3\",2))"
   ]
  }
 ],
 "metadata": {},
 "nbformat": 4,
 "nbformat_minor": 5
}
