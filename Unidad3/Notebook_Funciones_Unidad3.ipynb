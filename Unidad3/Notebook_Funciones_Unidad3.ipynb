{
 "cells": [
  {
   "cell_type": "markdown",
   "id": "b1edafd8",
   "metadata": {},
   "source": [
    "# Unidad 3: Funciones en Python\n",
    "Este notebook contiene una serie de ejercicios guiados y graduales para aprender a definir, utilizar y organizar funciones en Python."
   ]
  },
  {
   "cell_type": "markdown",
   "id": "00f4c1c5",
   "metadata": {},
   "source": [
    "## 1. Introducción: ¿Por qué usar funciones?\n",
    "Las funciones permiten dividir un programa en bloques reutilizables, facilitando la organización y lectura del código."
   ]
  },
  {
   "cell_type": "markdown",
   "id": "f654032c",
   "metadata": {},
   "source": [
    "### Ejemplo básico:"
   ]
  },
  {
   "cell_type": "code",
   "execution_count": null,
   "id": "0de0236d",
   "metadata": {},
   "outputs": [],
   "source": [
    "def saludar():\n",
    "    print(\"¡Hola desde una función!\")\n",
    "\n",
    "saludar()"
   ]
  },
  {
   "cell_type": "markdown",
   "id": "244938d6",
   "metadata": {},
   "source": [
    "## 2. Funciones con parámetros"
   ]
  },
  {
   "cell_type": "code",
   "execution_count": null,
   "id": "c4a60572",
   "metadata": {},
   "outputs": [],
   "source": [
    "def saludar(nombre):\n",
    "    print(f\"Hola, {nombre}!\")\n",
    "\n",
    "saludar(\"Ana\")"
   ]
  },
  {
   "cell_type": "markdown",
   "id": "b7a9a7db",
   "metadata": {},
   "source": [
    "### Ejercicio 1:\n",
    "Crea una función llamada `bienvenida` que reciba un nombre y un mensaje personalizado, y los imprima juntos."
   ]
  },
  {
   "cell_type": "code",
   "execution_count": null,
   "id": "67cf1200",
   "metadata": {},
   "outputs": [],
   "source": [
    "# Tu código aquí"
   ]
  },
  {
   "cell_type": "markdown",
   "id": "9ed738e0",
   "metadata": {},
   "source": [
    "## 3. Funciones que devuelven valores"
   ]
  },
  {
   "cell_type": "code",
   "execution_count": null,
   "id": "21e03bcf",
   "metadata": {},
   "outputs": [],
   "source": [
    "def cuadrado(numero):\n",
    "    return numero ** 2\n",
    "\n",
    "resultado = cuadrado(4)\n",
    "print(\"El cuadrado es:\", resultado)"
   ]
  },
  {
   "cell_type": "markdown",
   "id": "6720f2bf",
   "metadata": {},
   "source": [
    "### Ejercicio 2:\n",
    "Crea una función `multiplicar` que reciba dos números y devuelva el resultado."
   ]
  },
  {
   "cell_type": "code",
   "execution_count": null,
   "id": "be2cf35b",
   "metadata": {},
   "outputs": [],
   "source": [
    "# Tu código aquí"
   ]
  },
  {
   "cell_type": "markdown",
   "id": "4c012f65",
   "metadata": {},
   "source": [
    "## 4. Funciones con múltiples parámetros opcionales y por defecto"
   ]
  },
  {
   "cell_type": "code",
   "execution_count": null,
   "id": "f6d75655",
   "metadata": {},
   "outputs": [],
   "source": [
    "def presentar(nombre, edad=18):\n",
    "    print(f\"{nombre} tiene {edad} años.\")\n",
    "\n",
    "presentar(\"Carlos\")\n",
    "presentar(\"Lucía\", 22)"
   ]
  },
  {
   "cell_type": "markdown",
   "id": "e247c91c",
   "metadata": {},
   "source": [
    "### Ejercicio 3:\n",
    "Crea una función `area_rectangulo` que calcule el área con base y altura, y tenga un valor por defecto de altura=1."
   ]
  },
  {
   "cell_type": "code",
   "execution_count": null,
   "id": "55d324da",
   "metadata": {},
   "outputs": [],
   "source": [
    "# Tu código aquí"
   ]
  },
  {
   "cell_type": "markdown",
   "id": "55c3d371",
   "metadata": {},
   "source": [
    "## 5. Ámbito de variables: local y global"
   ]
  },
  {
   "cell_type": "code",
   "execution_count": null,
   "id": "d783cf79",
   "metadata": {},
   "outputs": [],
   "source": [
    "x = 10\n",
    "\n",
    "def mostrar():\n",
    "    x = 5  # variable local\n",
    "    print(\"Dentro de la función:\", x)\n",
    "\n",
    "mostrar()\n",
    "print(\"Fuera de la función:\", x)"
   ]
  },
  {
   "cell_type": "markdown",
   "id": "1bbc4566",
   "metadata": {},
   "source": [
    "### Ejercicio 4:\n",
    "Crea una función que modifique una variable global usando la palabra clave `global`."
   ]
  },
  {
   "cell_type": "code",
   "execution_count": null,
   "id": "85762345",
   "metadata": {},
   "outputs": [],
   "source": [
    "# Tu código aquí"
   ]
  },
  {
   "cell_type": "markdown",
   "id": "99fa73dd",
   "metadata": {},
   "source": [
    "## 6. Modularización del código\n",
    "Agrupar funciones permite crear estructuras organizadas y reutilizables."
   ]
  },
  {
   "cell_type": "code",
   "execution_count": null,
   "id": "ef48ac8e",
   "metadata": {},
   "outputs": [],
   "source": [
    "def menu():\n",
    "    print(\"1. Saludar\")\n",
    "    print(\"2. Sumar dos números\")\n",
    "    print(\"3. Salir\")\n",
    "\n",
    "def sumar(a, b):\n",
    "    return a + b"
   ]
  },
  {
   "cell_type": "markdown",
   "id": "d927db83",
   "metadata": {},
   "source": [
    "### Ejercicio 5:\n",
    "Completa un programa donde se muestre un menú, el usuario seleccione una opción y se llamen funciones respectivas para cada operación (saludar, sumar, etc.). Usa un ciclo `while` para repetir el menú."
   ]
  },
  {
   "cell_type": "code",
   "execution_count": null,
   "id": "a1e46512",
   "metadata": {},
   "outputs": [],
   "source": [
    "# Tu código aquí"
   ]
  },
  {
   "cell_type": "markdown",
   "id": "38d33058",
   "metadata": {},
   "source": [
    "## 7. Actividad final sugerida\n",
    "Desarrolla un programa modular con al menos:\n",
    "- Una función que salude\n",
    "- Una función que calcule una operación matemática\n",
    "- Una función que muestre un menú y controle el flujo con `while`\n",
    "\n",
    "Este ejercicio te servirá como base para las tareas individuales y colaborativas."
   ]
  }
 ],
 "metadata": {},
 "nbformat": 4,
 "nbformat_minor": 5
}
