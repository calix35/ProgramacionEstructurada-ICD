{
 "cells": [
  {
   "cell_type": "markdown",
   "id": "ecba9490",
   "metadata": {},
   "source": [
    "# Introducción práctica a Python\n",
    "Este notebook te ayudará a practicar los conceptos básicos de programación en Python: entrada, salida, variables, tipos de datos y expresiones."
   ]
  },
  {
   "cell_type": "markdown",
   "id": "22c2911d",
   "metadata": {},
   "source": [
    "## Entrada y salida de datos\n",
    "Usamos `input()` para obtener datos del usuario y `print()` para mostrar resultados."
   ]
  },
  {
   "cell_type": "code",
   "execution_count": null,
   "id": "bfad026a",
   "metadata": {},
   "outputs": [],
   "source": [
    "nombre = input(\"¿Cuál es tu nombre? \")\n",
    "print(\"Hola\", nombre)"
   ]
  },
  {
   "cell_type": "markdown",
   "id": "f301b223",
   "metadata": {},
   "source": [
    "## Conversión de tipos\n",
    "Convertimos datos a enteros (`int`) o decimales (`float`) si queremos realizar cálculos."
   ]
  },
  {
   "cell_type": "code",
   "execution_count": null,
   "id": "b3343f9a",
   "metadata": {},
   "outputs": [],
   "source": [
    "horas = int(input(\"¿Cuántas horas trabajaste esta semana? \"))\n",
    "pago = float(input(\"¿Cuánto te pagan por hora? \"))\n",
    "sueldo = horas * pago\n",
    "print(\"Tu sueldo es:\", sueldo)"
   ]
  },
  {
   "cell_type": "markdown",
   "id": "0003e2dc",
   "metadata": {},
   "source": [
    "## Variables y expresiones\n",
    "Las variables guardan valores y las expresiones permiten hacer operaciones."
   ]
  },
  {
   "cell_type": "code",
   "execution_count": null,
   "id": "32b32704",
   "metadata": {},
   "outputs": [],
   "source": [
    "a = 5\n",
    "b = 3\n",
    "suma = a + b\n",
    "print(\"La suma de a y b es:\", suma)"
   ]
  },
  {
   "cell_type": "markdown",
   "id": "354244e6",
   "metadata": {},
   "source": [
    "## Ejercicio sugerido\n",
    "Modifica el siguiente código para que también calcule el salario mensual (asumiendo 4 semanas de trabajo)."
   ]
  },
  {
   "cell_type": "code",
   "execution_count": null,
   "id": "3e6f2a14",
   "metadata": {},
   "outputs": [],
   "source": [
    "# Tu código aquí\n",
    "horas = int(input(\"Horas trabajadas en una semana: \"))\n",
    "pago = float(input(\"Pago por hora: \"))\n",
    "sueldo_semanal = horas * pago\n",
    "salario_mensual = sueldo_semanal * 4\n",
    "print(\"Salario mensual estimado:\", salario_mensual)"
   ]
  }
 ],
 "metadata": {},
 "nbformat": 4,
 "nbformat_minor": 5
}
