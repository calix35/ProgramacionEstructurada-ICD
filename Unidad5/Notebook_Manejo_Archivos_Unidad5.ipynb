{
 "cells": [
  {
   "cell_type": "markdown",
   "id": "dc139101",
   "metadata": {},
   "source": [
    "# Unidad 5: Manejo de archivos en Python\n",
    "Este notebook te guiará paso a paso a través de ejercicios prácticos sobre cómo leer, escribir y validar archivos de texto (.txt) y archivos CSV, así como capturar errores en el proceso."
   ]
  },
  {
   "cell_type": "markdown",
   "id": "99dfeacc",
   "metadata": {},
   "source": [
    "## 1. Abrir y leer archivos de texto"
   ]
  },
  {
   "cell_type": "code",
   "execution_count": null,
   "id": "bb0d77b4",
   "metadata": {},
   "outputs": [],
   "source": [
    "with open('archivo.txt', 'r') as archivo:\n",
    "    contenido = archivo.read()\n",
    "    print(contenido)"
   ]
  },
  {
   "cell_type": "markdown",
   "id": "0792af59",
   "metadata": {},
   "source": [
    "### Ejercicio:\n",
    "Crea un archivo llamado `datos.txt` con tres líneas de texto. Luego, usa Python para leerlo y mostrar su contenido en consola."
   ]
  },
  {
   "cell_type": "markdown",
   "id": "b3cac518",
   "metadata": {},
   "source": [
    "## 2. Leer línea por línea y eliminar saltos de línea"
   ]
  },
  {
   "cell_type": "code",
   "execution_count": null,
   "id": "fc785238",
   "metadata": {},
   "outputs": [],
   "source": [
    "with open('datos.txt', 'r') as archivo:\n",
    "    for linea in archivo:\n",
    "        print(linea.strip())"
   ]
  },
  {
   "cell_type": "markdown",
   "id": "77b65d0f",
   "metadata": {},
   "source": [
    "## 3. Escribir en archivos"
   ]
  },
  {
   "cell_type": "code",
   "execution_count": null,
   "id": "bb4b4d43",
   "metadata": {},
   "outputs": [],
   "source": [
    "with open('registro.txt', 'w') as archivo:\n",
    "    archivo.write('Línea 1\\n')\n",
    "    archivo.write('Línea 2\\n')"
   ]
  },
  {
   "cell_type": "markdown",
   "id": "5fc07f65",
   "metadata": {},
   "source": [
    "### Ejercicio:\n",
    "Escribe un programa que cree un archivo llamado `log.txt` e ingrese al menos tres eventos registrados por el usuario."
   ]
  },
  {
   "cell_type": "markdown",
   "id": "a2fac3cc",
   "metadata": {},
   "source": [
    "## 4. Añadir contenido con 'append'"
   ]
  },
  {
   "cell_type": "code",
   "execution_count": null,
   "id": "0bd9229a",
   "metadata": {},
   "outputs": [],
   "source": [
    "with open('log.txt', 'a') as archivo:\n",
    "    archivo.write('Nuevo evento\\n')"
   ]
  },
  {
   "cell_type": "markdown",
   "id": "9d83e820",
   "metadata": {},
   "source": [
    "## 5. Leer archivos CSV"
   ]
  },
  {
   "cell_type": "code",
   "execution_count": null,
   "id": "518add0b",
   "metadata": {},
   "outputs": [],
   "source": [
    "import csv\n",
    "with open('clientes.csv', newline='') as archivo:\n",
    "    lector = csv.reader(archivo)\n",
    "    for fila in lector:\n",
    "        print(fila)"
   ]
  },
  {
   "cell_type": "markdown",
   "id": "f7c44650",
   "metadata": {},
   "source": [
    "## 6. Escribir archivos CSV"
   ]
  },
  {
   "cell_type": "code",
   "execution_count": null,
   "id": "45659c96",
   "metadata": {},
   "outputs": [],
   "source": [
    "import csv\n",
    "with open('salida.csv', 'w', newline='') as archivo:\n",
    "    escritor = csv.writer(archivo)\n",
    "    escritor.writerow(['Nombre', 'Edad'])\n",
    "    escritor.writerow(['Ana', 28])"
   ]
  },
  {
   "cell_type": "markdown",
   "id": "c20513b8",
   "metadata": {},
   "source": [
    "## 7. Validar formato y capturar errores"
   ]
  },
  {
   "cell_type": "code",
   "execution_count": null,
   "id": "9ea8f524",
   "metadata": {},
   "outputs": [],
   "source": [
    "try:\n",
    "    with open('ventas.csv') as f:\n",
    "        for linea in f:\n",
    "            partes = linea.strip().split(',')\n",
    "            if len(partes) != 2:\n",
    "                print('Línea inválida:', linea)\n",
    "except FileNotFoundError:\n",
    "    print('El archivo no fue encontrado.')"
   ]
  },
  {
   "cell_type": "markdown",
   "id": "cbd8199a",
   "metadata": {},
   "source": [
    "## 8. Desafío final"
   ]
  },
  {
   "cell_type": "markdown",
   "id": "31f2671a",
   "metadata": {},
   "source": [
    "### Desafío:\n",
    "Crea un programa que lea un archivo `temperaturas.csv` con datos en formato <code>fecha,temperatura</code>. Tu programa debe:\n",
    "- Validar que todas las líneas tengan exactamente dos columnas.\n",
    "- Detectar temperaturas fuera del rango 0-50°C.\n",
    "- Calcular el promedio, el valor máximo y mínimo.\n",
    "- Mostrar un resumen con los resultados."
   ]
  },
  {
   "cell_type": "code",
   "execution_count": null,
   "id": "9ab67b0a",
   "metadata": {},
   "outputs": [],
   "source": [
    "# Tu código aquí"
   ]
  }
 ],
 "metadata": {},
 "nbformat": 4,
 "nbformat_minor": 5
}
