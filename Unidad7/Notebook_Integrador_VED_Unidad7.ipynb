{
 "cells": [
  {
   "cell_type": "markdown",
   "id": "92522bdb",
   "metadata": {},
   "source": [
    "# Proyecto integrador – Unidad 7\n",
    "Este notebook descarga y descomprime el conjunto de datos Vehicle Energy Dataset (VED), dividido en dos partes. Luego, carga un archivo CSV de muestra automáticamente para iniciar tu análisis."
   ]
  },
  {
   "cell_type": "markdown",
   "id": "99589445",
   "metadata": {},
   "source": [
    "## 1. Instalar herramientas necesarias para descomprimir archivos .7z"
   ]
  },
  {
   "cell_type": "code",
   "execution_count": null,
   "id": "b36ddfe0",
   "metadata": {},
   "outputs": [],
   "source": [
    "!apt-get install -y p7zip-full"
   ]
  },
  {
   "cell_type": "markdown",
   "id": "c1cc1bd7",
   "metadata": {},
   "source": [
    "## 2. Descargar las dos partes del conjunto de datos desde GitHub"
   ]
  },
  {
   "cell_type": "code",
   "execution_count": null,
   "id": "73c44b98",
   "metadata": {},
   "outputs": [],
   "source": [
    "!wget https://github.com/gsoh/VED/raw/master/Data/VED_DynamicData_Part1.7z -O VED_DynamicData_Part1.7z\n",
    "!wget https://github.com/gsoh/VED/raw/master/Data/VED_DynamicData_Part2.7z -O VED_DynamicData_Part2.7z"
   ]
  },
  {
   "cell_type": "markdown",
   "id": "4a66c9e7",
   "metadata": {},
   "source": [
    "## 3. Descomprimir ambas partes"
   ]
  },
  {
   "cell_type": "code",
   "execution_count": null,
   "id": "a87bf16e",
   "metadata": {},
   "outputs": [],
   "source": [
    "!7z x VED_DynamicData_Part1.7z -oVED_DynamicData\n",
    "!7z x VED_DynamicData_Part2.7z -oVED_DynamicData"
   ]
  },
  {
   "cell_type": "markdown",
   "id": "846d0258",
   "metadata": {},
   "source": [
    "## 4. Buscar un archivo CSV disponible"
   ]
  },
  {
   "cell_type": "code",
   "execution_count": null,
   "id": "af65c2f9",
   "metadata": {},
   "outputs": [],
   "source": [
    "import os\n",
    "\n",
    "# Buscar el primer archivo CSV dentro de la carpeta descomprimida\n",
    "csv_file = None\n",
    "for archivo in os.listdir(\"VED_DynamicData\"):\n",
    "    if archivo.endswith(\".csv\"):\n",
    "        csv_file = archivo\n",
    "        break\n",
    "\n",
    "print(\"Archivo CSV seleccionado:\", csv_file)"
   ]
  },
  {
   "cell_type": "markdown",
   "id": "403b3178",
   "metadata": {},
   "source": [
    "## 5. Leer y mostrar las primeras líneas del archivo CSV encontrado"
   ]
  },
  {
   "cell_type": "code",
   "execution_count": null,
   "id": "0af0f353",
   "metadata": {},
   "outputs": [],
   "source": [
    "with open(f\"VED_DynamicData/{csv_file}\") as f:\n",
    "    for i in range(10):\n",
    "        print(f.readline().strip())"
   ]
  },
  {
   "cell_type": "markdown",
   "id": "bd5d7834",
   "metadata": {},
   "source": [
    "## 6. Prueba mínima con assert"
   ]
  },
  {
   "cell_type": "code",
   "execution_count": null,
   "id": "14b8f82c",
   "metadata": {},
   "outputs": [],
   "source": [
    "with open(f\"VED_DynamicData/{csv_file}\") as f:\n",
    "    lineas = f.readlines()\n",
    "\n",
    "assert len(lineas) > 1000, \"El archivo no contiene suficientes registros.\"\n",
    "print(\"Prueba pasada: el archivo tiene\", len(lineas), \"registros.\")"
   ]
  },
  {
   "cell_type": "markdown",
   "id": "98d01209",
   "metadata": {},
   "source": [
    "## ✅ Continúa tú\n",
    "Desde aquí puedes comenzar a construir tu sistema de análisis con funciones, validaciones, estadísticas y pruebas."
   ]
  }
 ],
 "metadata": {},
 "nbformat": 4,
 "nbformat_minor": 5
}
