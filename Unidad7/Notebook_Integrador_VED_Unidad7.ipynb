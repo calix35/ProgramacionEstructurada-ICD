{
 "cells": [
  {
   "cell_type": "markdown",
   "id": "d3ea1162",
   "metadata": {},
   "source": [
    "# Proyecto integrador – Unidad 7\n",
    "Este notebook descarga, descomprime y carga un archivo del conjunto de datos Vehicle Energy Dataset (VED). Incluye ejemplos básicos de limpieza de datos y análisis de velocidad promedio."
   ]
  },
  {
   "cell_type": "markdown",
   "id": "02c932df",
   "metadata": {},
   "source": [
    "## 1. Instalar herramientas necesarias para descomprimir archivos .7z"
   ]
  },
  {
   "cell_type": "code",
   "execution_count": null,
   "id": "be74da10",
   "metadata": {},
   "outputs": [],
   "source": [
    "!apt-get install -y p7zip-full"
   ]
  },
  {
   "cell_type": "markdown",
   "id": "e8b59fba",
   "metadata": {},
   "source": [
    "## 2. Descargar las dos partes del conjunto de datos desde GitHub"
   ]
  },
  {
   "cell_type": "code",
   "execution_count": null,
   "id": "1787ff5c",
   "metadata": {},
   "outputs": [],
   "source": [
    "!wget https://github.com/gsoh/VED/raw/master/Data/VED_DynamicData_Part1.7z -O VED_DynamicData_Part1.7z\n",
    "!wget https://github.com/gsoh/VED/raw/master/Data/VED_DynamicData_Part2.7z -O VED_DynamicData_Part2.7z"
   ]
  },
  {
   "cell_type": "markdown",
   "id": "56985d73",
   "metadata": {},
   "source": [
    "## 3. Descomprimir ambas partes"
   ]
  },
  {
   "cell_type": "code",
   "execution_count": null,
   "id": "d6c65077",
   "metadata": {},
   "outputs": [],
   "source": [
    "!7z x VED_DynamicData_Part1.7z -oVED_DynamicData\n",
    "!7z x VED_DynamicData_Part2.7z -oVED_DynamicData"
   ]
  },
  {
   "cell_type": "markdown",
   "id": "597dde60",
   "metadata": {},
   "source": [
    "## 4. Buscar un archivo CSV disponible"
   ]
  },
  {
   "cell_type": "code",
   "execution_count": null,
   "id": "3285f511",
   "metadata": {},
   "outputs": [],
   "source": [
    "import os\n",
    "\n",
    "csv_file = None\n",
    "for archivo in os.listdir(\"VED_DynamicData\"):\n",
    "    if archivo.endswith(\".csv\"):\n",
    "        csv_file = archivo\n",
    "        break\n",
    "\n",
    "print(\"Archivo CSV seleccionado:\", csv_file)"
   ]
  },
  {
   "cell_type": "markdown",
   "id": "2c6f1761",
   "metadata": {},
   "source": [
    "## 5. Mostrar las primeras líneas del archivo CSV seleccionado"
   ]
  },
  {
   "cell_type": "code",
   "execution_count": null,
   "id": "d1833dce",
   "metadata": {},
   "outputs": [],
   "source": [
    "with open(f\"VED_DynamicData/{csv_file}\") as f:\n",
    "    for i in range(10):\n",
    "        print(f.readline().strip())"
   ]
  },
  {
   "cell_type": "markdown",
   "id": "c5fe1ebb",
   "metadata": {},
   "source": [
    "## 6. Prueba mínima: verificar que el archivo tenga al menos 1000 líneas"
   ]
  },
  {
   "cell_type": "code",
   "execution_count": null,
   "id": "a4740fd7",
   "metadata": {},
   "outputs": [],
   "source": [
    "with open(f\"VED_DynamicData/{csv_file}\") as f:\n",
    "    lineas = f.readlines()\n",
    "\n",
    "assert len(lineas) > 1000, \"El archivo no contiene suficientes registros.\"\n",
    "print(\"Prueba pasada: el archivo tiene\", len(lineas), \"registros.\")"
   ]
  },
  {
   "cell_type": "markdown",
   "id": "cba85781",
   "metadata": {},
   "source": [
    "## 7. Limpieza de datos: eliminar registros con valores 'NaN'"
   ]
  },
  {
   "cell_type": "code",
   "execution_count": null,
   "id": "2791b08b",
   "metadata": {},
   "outputs": [],
   "source": [
    "# Filtramos líneas que NO contienen 'NaN'\n",
    "lineas_limpias = [l for l in lineas[1:] if 'NaN' not in l]\n",
    "print(f\"Líneas válidas sin NaN: {len(lineas_limpias)}\")"
   ]
  },
  {
   "cell_type": "markdown",
   "id": "49afe464",
   "metadata": {},
   "source": [
    "## 8. Ejemplo de análisis: velocidad promedio"
   ]
  },
  {
   "cell_type": "code",
   "execution_count": null,
   "id": "54fccf31",
   "metadata": {},
   "outputs": [],
   "source": [
    "# Cálculo de velocidad promedio en registros válidos\n",
    "total_velocidad = 0\n",
    "cuenta = 0\n",
    "\n",
    "for l in lineas_limpias:\n",
    "    campos = l.strip().split(',')\n",
    "    try:\n",
    "        velocidad = float(campos[6])  # Columna 7 = Vehicle Speed[km/h]\n",
    "        total_velocidad += velocidad\n",
    "        cuenta += 1\n",
    "    except:\n",
    "        continue\n",
    "\n",
    "promedio = total_velocidad / cuenta if cuenta > 0 else 0\n",
    "print(f\"Velocidad promedio (en registros sin NaN): {promedio:.2f} km/h\")"
   ]
  },
  {
   "cell_type": "markdown",
   "id": "a8d0a9a4",
   "metadata": {},
   "source": [
    "## ✅ Continúa tú\n",
    "A partir de aquí, puedes aplicar filtros adicionales, calcular estadísticas por vehículo o viaje, y crear tu sistema completo de análisis."
   ]
  }
 ],
 "metadata": {},
 "nbformat": 4,
 "nbformat_minor": 5
}
