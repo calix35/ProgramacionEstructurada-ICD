{
 "cells": [
  {
   "cell_type": "markdown",
   "id": "65949d96",
   "metadata": {},
   "source": [
    "# Proyecto integrador – Unidad 7\n",
    "Este notebook descarga y descomprime el conjunto de datos Vehicle Energy Dataset (VED), dividido en dos partes. Luego, carga un archivo de muestra para iniciar tu análisis."
   ]
  },
  {
   "cell_type": "markdown",
   "id": "225709ca",
   "metadata": {},
   "source": [
    "## 1. Instalar herramientas necesarias para descomprimir archivos .7z"
   ]
  },
  {
   "cell_type": "code",
   "execution_count": null,
   "id": "1ff7d4cf",
   "metadata": {},
   "outputs": [],
   "source": [
    "!apt-get install -y p7zip-full"
   ]
  },
  {
   "cell_type": "markdown",
   "id": "9e548f8c",
   "metadata": {},
   "source": [
    "## 2. Descargar las dos partes del conjunto de datos desde GitHub"
   ]
  },
  {
   "cell_type": "code",
   "execution_count": null,
   "id": "d53441d4",
   "metadata": {},
   "outputs": [],
   "source": [
    "!wget https://github.com/gsoh/VED/raw/master/Data/VED_DynamicData_Part1.7z -O VED_DynamicData_Part1.7z\n",
    "!wget https://github.com/gsoh/VED/raw/master/Data/VED_DynamicData_Part2.7z -O VED_DynamicData_Part2.7z"
   ]
  },
  {
   "cell_type": "markdown",
   "id": "1d5b6479",
   "metadata": {},
   "source": [
    "## 3. Descomprimir ambas partes"
   ]
  },
  {
   "cell_type": "code",
   "execution_count": null,
   "id": "7242f620",
   "metadata": {},
   "outputs": [],
   "source": [
    "!7z x VED_DynamicData_Part1.7z -oVED_DynamicData\n",
    "!7z x VED_DynamicData_Part2.7z -oVED_DynamicData"
   ]
  },
  {
   "cell_type": "markdown",
   "id": "075f2d78",
   "metadata": {},
   "source": [
    "## 4. Verificar el contenido de la carpeta descomprimida"
   ]
  },
  {
   "cell_type": "code",
   "execution_count": null,
   "id": "74237ce4",
   "metadata": {},
   "outputs": [],
   "source": [
    "import os\n",
    "archivos = os.listdir(\"VED_DynamicData\")\n",
    "print(\"Archivos disponibles:\", archivos[:5])"
   ]
  },
  {
   "cell_type": "markdown",
   "id": "11ed4b59",
   "metadata": {},
   "source": [
    "## 5. Leer y mostrar las primeras líneas de un archivo CSV"
   ]
  },
  {
   "cell_type": "code",
   "execution_count": null,
   "id": "831acd64",
   "metadata": {},
   "outputs": [],
   "source": [
    "with open(\"VED_DynamicData/20181128_151151_VED_03.csv\") as f:\n",
    "    for i in range(10):\n",
    "        print(f.readline().strip())"
   ]
  },
  {
   "cell_type": "markdown",
   "id": "728ab1bc",
   "metadata": {},
   "source": [
    "## 6. Prueba mínima con assert"
   ]
  },
  {
   "cell_type": "code",
   "execution_count": null,
   "id": "45f6c756",
   "metadata": {},
   "outputs": [],
   "source": [
    "with open(\"VED_DynamicData/20181128_151151_VED_03.csv\") as f:\n",
    "    lineas = f.readlines()\n",
    "\n",
    "assert len(lineas) > 1000, \"El archivo no contiene suficientes registros.\"\n",
    "print(\"Prueba pasada: el archivo tiene\", len(lineas), \"registros.\")"
   ]
  },
  {
   "cell_type": "markdown",
   "id": "2fef8a04",
   "metadata": {},
   "source": [
    "## ✅ Continúa tú\n",
    "Desde aquí puedes comenzar a construir tu sistema de análisis con funciones, validaciones, estadísticas y pruebas."
   ]
  }
 ],
 "metadata": {},
 "nbformat": 4,
 "nbformat_minor": 5
}
