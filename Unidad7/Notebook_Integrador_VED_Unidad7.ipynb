{
 "cells": [
  {
   "cell_type": "markdown",
   "id": "69273410",
   "metadata": {},
   "source": [
    "# Proyecto integrador – Unidad 7\n",
    "Este notebook descarga, descomprime y analiza el conjunto de datos Vehicle Energy Dataset (VED). Incluye limpieza específica de la columna de velocidad y cálculo de velocidad promedio."
   ]
  },
  {
   "cell_type": "markdown",
   "id": "bcbc6ca1",
   "metadata": {},
   "source": [
    "## 1. Instalar herramientas necesarias para descomprimir archivos .7z"
   ]
  },
  {
   "cell_type": "code",
   "execution_count": null,
   "id": "2abb989c",
   "metadata": {},
   "outputs": [],
   "source": [
    "!apt-get install -y p7zip-full"
   ]
  },
  {
   "cell_type": "markdown",
   "id": "aac5675b",
   "metadata": {},
   "source": [
    "## 2. Descargar las dos partes del conjunto de datos desde GitHub"
   ]
  },
  {
   "cell_type": "code",
   "execution_count": null,
   "id": "b6e1688e",
   "metadata": {},
   "outputs": [],
   "source": [
    "!wget https://github.com/gsoh/VED/raw/master/Data/VED_DynamicData_Part1.7z -O VED_DynamicData_Part1.7z\n",
    "!wget https://github.com/gsoh/VED/raw/master/Data/VED_DynamicData_Part2.7z -O VED_DynamicData_Part2.7z"
   ]
  },
  {
   "cell_type": "markdown",
   "id": "d9eb65f9",
   "metadata": {},
   "source": [
    "## 3. Descomprimir ambas partes"
   ]
  },
  {
   "cell_type": "code",
   "execution_count": null,
   "id": "64f63af6",
   "metadata": {},
   "outputs": [],
   "source": [
    "!7z x VED_DynamicData_Part1.7z -oVED_DynamicData\n",
    "!7z x VED_DynamicData_Part2.7z -oVED_DynamicData"
   ]
  },
  {
   "cell_type": "markdown",
   "id": "cfde5b50",
   "metadata": {},
   "source": [
    "## 4. Buscar un archivo CSV disponible"
   ]
  },
  {
   "cell_type": "code",
   "execution_count": null,
   "id": "060ae90f",
   "metadata": {},
   "outputs": [],
   "source": [
    "import os\n",
    "\n",
    "csv_file = None\n",
    "for archivo in os.listdir(\"VED_DynamicData\"):\n",
    "    if archivo.endswith(\".csv\"):\n",
    "        csv_file = archivo\n",
    "        break\n",
    "\n",
    "print(\"Archivo CSV seleccionado:\", csv_file)"
   ]
  },
  {
   "cell_type": "markdown",
   "id": "8cb5738f",
   "metadata": {},
   "source": [
    "## 5. Leer y mostrar las primeras líneas del archivo CSV seleccionado"
   ]
  },
  {
   "cell_type": "code",
   "execution_count": null,
   "id": "0a464e25",
   "metadata": {},
   "outputs": [],
   "source": [
    "with open(f\"VED_DynamicData/{csv_file}\") as f:\n",
    "    for i in range(10):\n",
    "        print(f.readline().strip())"
   ]
  },
  {
   "cell_type": "markdown",
   "id": "448ab8de",
   "metadata": {},
   "source": [
    "## 6. Prueba mínima: verificar que el archivo tenga al menos 1000 líneas"
   ]
  },
  {
   "cell_type": "code",
   "execution_count": null,
   "id": "4489d320",
   "metadata": {},
   "outputs": [],
   "source": [
    "with open(f\"VED_DynamicData/{csv_file}\") as f:\n",
    "    lineas = f.readlines()\n",
    "\n",
    "assert len(lineas) > 1000, \"El archivo no contiene suficientes registros.\"\n",
    "print(\"Prueba pasada: el archivo tiene\", len(lineas), \"registros.\")"
   ]
  },
  {
   "cell_type": "markdown",
   "id": "c81245e3",
   "metadata": {},
   "source": [
    "## 7. Análisis de velocidad promedio (ignorando NaN solo en esa columna)"
   ]
  },
  {
   "cell_type": "code",
   "execution_count": null,
   "id": "51133f86",
   "metadata": {},
   "outputs": [],
   "source": [
    "total_velocidad = 0\n",
    "cuenta = 0\n",
    "\n",
    "for l in lineas[1:]:\n",
    "    campos = l.strip().split(',')\n",
    "    if len(campos) > 6 and campos[6] != 'NaN':\n",
    "        try:\n",
    "            velocidad = float(campos[6])\n",
    "            total_velocidad += velocidad\n",
    "            cuenta += 1\n",
    "        except:\n",
    "            continue\n",
    "\n",
    "promedio = total_velocidad / cuenta if cuenta > 0 else 0\n",
    "print(f\"Velocidad promedio (sin NaN en columna de velocidad): {promedio:.2f} km/h\")"
   ]
  },
  {
   "cell_type": "markdown",
   "id": "64fb76ed",
   "metadata": {},
   "source": [
    "## ✅ Continúa tú\n",
    "A partir de aquí puedes crear más análisis específicos por variable o por grupo (VehId, Trip, etc.)."
   ]
  }
 ],
 "metadata": {},
 "nbformat": 4,
 "nbformat_minor": 5
}
