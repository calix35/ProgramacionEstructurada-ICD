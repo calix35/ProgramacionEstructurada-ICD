{
 "cells": [
  {
   "cell_type": "markdown",
   "id": "c949c593",
   "metadata": {},
   "source": [
    "# Proyecto integrador – Unidad 7\n",
    "Este notebook es el punto de partida para tu proyecto final. A continuación se descarga un subconjunto del conjunto de datos VED (Vehicle Energy Dataset), se carga y se valida una condición mínima para comenzar tu análisis."
   ]
  },
  {
   "cell_type": "markdown",
   "id": "f640d2c2",
   "metadata": {},
   "source": [
    "## 1. Descargar un archivo de muestra del dataset\n",
    "El archivo proviene del repositorio oficial en GitHub del VED."
   ]
  },
  {
   "cell_type": "code",
   "execution_count": null,
   "id": "16f9a641",
   "metadata": {},
   "outputs": [],
   "source": [
    "!wget https://github.com/gsoh/VED/raw/master/VED_DynamicData/VED_112818_week.csv -O ved_datos.csv"
   ]
  },
  {
   "cell_type": "markdown",
   "id": "c0f16ae2",
   "metadata": {},
   "source": [
    "## 2. Leer el archivo y mostrar las primeras líneas"
   ]
  },
  {
   "cell_type": "code",
   "execution_count": null,
   "id": "1291dfad",
   "metadata": {},
   "outputs": [],
   "source": [
    "with open(\"ved_datos.csv\") as f:\n",
    "    for i in range(10):\n",
    "        print(f.readline().strip())"
   ]
  },
  {
   "cell_type": "markdown",
   "id": "7161e671",
   "metadata": {},
   "source": [
    "## 3. Prueba mínima: verificar que el archivo tenga al menos 1000 líneas"
   ]
  },
  {
   "cell_type": "code",
   "execution_count": null,
   "id": "12e28043",
   "metadata": {},
   "outputs": [],
   "source": [
    "with open(\"ved_datos.csv\") as f:\n",
    "    lineas = f.readlines()\n",
    "\n",
    "assert len(lineas) > 1000, \"El archivo no contiene suficientes registros.\"\n",
    "print(\"Prueba pasada: el archivo tiene\", len(lineas), \"registros.\")"
   ]
  },
  {
   "cell_type": "markdown",
   "id": "54d5d86b",
   "metadata": {},
   "source": [
    "## ✅ Ahora continúa tú\n",
    "A partir de aquí deberás implementar funciones para analizar los datos: calcular estadísticas, aplicar filtros, validar formatos, documentar tu código y construir tu sistema completo."
   ]
  }
 ],
 "metadata": {},
 "nbformat": 4,
 "nbformat_minor": 5
}
