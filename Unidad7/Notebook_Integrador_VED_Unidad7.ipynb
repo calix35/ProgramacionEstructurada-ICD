{
 "cells": [
  {
   "cell_type": "markdown",
   "id": "02960bf4",
   "metadata": {},
   "source": [
    "# Proyecto integrador – Unidad 7\n",
    "Este notebook descarga el archivo comprimido del Vehicle Energy Dataset (VED), lo descomprime, y verifica la carga de uno de los archivos CSV contenidos para comenzar tu análisis."
   ]
  },
  {
   "cell_type": "markdown",
   "id": "24294c4d",
   "metadata": {},
   "source": [
    "## 1. Instalar herramientas necesarias para descomprimir .7z"
   ]
  },
  {
   "cell_type": "code",
   "execution_count": null,
   "id": "a912ca1b",
   "metadata": {},
   "outputs": [],
   "source": [
    "!apt-get install -y p7zip-full"
   ]
  },
  {
   "cell_type": "markdown",
   "id": "becfd777",
   "metadata": {},
   "source": [
    "## 2. Descargar el archivo VED_DynamicData.7z desde GitHub"
   ]
  },
  {
   "cell_type": "code",
   "execution_count": null,
   "id": "e41523be",
   "metadata": {},
   "outputs": [],
   "source": [
    "!wget https://github.com/gsoh/VED/releases/download/v1.0/VED_DynamicData.7z -O VED_DynamicData.7z"
   ]
  },
  {
   "cell_type": "markdown",
   "id": "831f3923",
   "metadata": {},
   "source": [
    "## 3. Descomprimir el archivo"
   ]
  },
  {
   "cell_type": "code",
   "execution_count": null,
   "id": "26f93416",
   "metadata": {},
   "outputs": [],
   "source": [
    "!7z x VED_DynamicData.7z -oVED_DynamicData"
   ]
  },
  {
   "cell_type": "markdown",
   "id": "1d730e5a",
   "metadata": {},
   "source": [
    "## 4. Verificar el contenido y cargar un archivo CSV"
   ]
  },
  {
   "cell_type": "code",
   "execution_count": null,
   "id": "6c472b9b",
   "metadata": {},
   "outputs": [],
   "source": [
    "import os\n",
    "archivos = os.listdir(\"VED_DynamicData\")\n",
    "print(\"Archivos disponibles:\", archivos[:5])"
   ]
  },
  {
   "cell_type": "markdown",
   "id": "c6760a50",
   "metadata": {},
   "source": [
    "## 5. Leer y mostrar las primeras líneas de un archivo CSV"
   ]
  },
  {
   "cell_type": "code",
   "execution_count": null,
   "id": "f6b69727",
   "metadata": {},
   "outputs": [],
   "source": [
    "with open(\"VED_DynamicData/20181128_151151_VED_03.csv\") as f:\n",
    "    for i in range(10):\n",
    "        print(f.readline().strip())"
   ]
  },
  {
   "cell_type": "markdown",
   "id": "fa594704",
   "metadata": {},
   "source": [
    "## 6. Prueba mínima con assert"
   ]
  },
  {
   "cell_type": "code",
   "execution_count": null,
   "id": "b7d4f913",
   "metadata": {},
   "outputs": [],
   "source": [
    "with open(\"VED_DynamicData/20181128_151151_VED_03.csv\") as f:\n",
    "    lineas = f.readlines()\n",
    "\n",
    "assert len(lineas) > 1000, \"El archivo no contiene suficientes registros.\"\n",
    "print(\"Prueba pasada: el archivo tiene\", len(lineas), \"registros.\")"
   ]
  },
  {
   "cell_type": "markdown",
   "id": "471d627f",
   "metadata": {},
   "source": [
    "## ✅ Continúa tú\n",
    "A partir de aquí puedes diseñar tu sistema de análisis: aplicar funciones, filtros, validaciones, estadísticas, visualización y pruebas."
   ]
  }
 ],
 "metadata": {},
 "nbformat": 4,
 "nbformat_minor": 5
}
